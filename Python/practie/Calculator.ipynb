{
 "cells": [
  {
   "cell_type": "markdown",
   "id": "906518f9",
   "metadata": {},
   "source": [
    "## calculator assignment"
   ]
  },
  {
   "cell_type": "code",
   "execution_count": 6,
   "id": "c8446649",
   "metadata": {},
   "outputs": [
    {
     "name": "stdout",
     "output_type": "stream",
     "text": [
      "enter 1st number :15\n",
      "enter 2nd number : 15\n",
      "enter operand : /\n",
      "division of 15  and 15 is :  1.0\n"
     ]
    }
   ],
   "source": [
    "# calculator\n",
    "x = int(input(\"enter 1st number :\"))\n",
    "y = int(input(\"enter 2nd number : \"))\n",
    "z = input(\"enter operand : \")\n",
    "match(z):\n",
    "    case\"+\":\n",
    "        print(f\"sum of {x} and {y} is : \", x + y )\n",
    "    case\"-\":\n",
    "        print(f\"subtraction  of {x} and {y} is : \", x - y )\n",
    "    case\"*\":\n",
    "        print(f\"multiplication of {x} and {y} is : \", x * y )\n",
    "    case\"/\":\n",
    "        print(f\"division of {x}  and {y} is : \", x / y )\n",
    "    case \"_\":\n",
    "        print(\"invalid choice\")"
   ]
  },
  {
   "cell_type": "code",
   "execution_count": null,
   "id": "27b13b82",
   "metadata": {},
   "outputs": [],
   "source": []
  }
 ],
 "metadata": {
  "kernelspec": {
   "display_name": "Python 3 (ipykernel)",
   "language": "python",
   "name": "python3"
  },
  "language_info": {
   "codemirror_mode": {
    "name": "ipython",
    "version": 3
   },
   "file_extension": ".py",
   "mimetype": "text/x-python",
   "name": "python",
   "nbconvert_exporter": "python",
   "pygments_lexer": "ipython3",
   "version": "3.11.5"
  }
 },
 "nbformat": 4,
 "nbformat_minor": 5
}

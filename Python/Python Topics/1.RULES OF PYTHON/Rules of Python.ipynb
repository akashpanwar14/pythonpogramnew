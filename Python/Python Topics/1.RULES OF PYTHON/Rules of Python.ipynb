{
 "cells": [
  {
   "cell_type": "markdown",
   "id": "253df2a3",
   "metadata": {},
   "source": [
    "    1.Case Sensetive"
   ]
  },
  {
   "cell_type": "code",
   "execution_count": 1,
   "id": "6017bfad",
   "metadata": {},
   "outputs": [
    {
     "name": "stdout",
     "output_type": "stream",
     "text": [
      "Akash\n"
     ]
    }
   ],
   "source": [
    "print(\"Akash\")"
   ]
  },
  {
   "cell_type": "code",
   "execution_count": 2,
   "id": "0f9622c0",
   "metadata": {},
   "outputs": [
    {
     "ename": "NameError",
     "evalue": "name 'Print' is not defined",
     "output_type": "error",
     "traceback": [
      "\u001b[1;31m---------------------------------------------------------------------------\u001b[0m",
      "\u001b[1;31mNameError\u001b[0m                                 Traceback (most recent call last)",
      "Cell \u001b[1;32mIn[2], line 1\u001b[0m\n\u001b[1;32m----> 1\u001b[0m Print (\u001b[38;5;124m\"\u001b[39m\u001b[38;5;124makash\u001b[39m\u001b[38;5;124m\"\u001b[39m)\n",
      "\u001b[1;31mNameError\u001b[0m: name 'Print' is not defined"
     ]
    }
   ],
   "source": [
    "Print (\"akash\")"
   ]
  },
  {
   "cell_type": "markdown",
   "id": "74815d1c",
   "metadata": {},
   "source": [
    "##  2. Use hastags for headings"
   ]
  },
  {
   "cell_type": "code",
   "execution_count": 4,
   "id": "b08a3a0c",
   "metadata": {},
   "outputs": [
    {
     "name": "stdout",
     "output_type": "stream",
     "text": [
      "#\n"
     ]
    }
   ],
   "source": [
    "print(\"#\")"
   ]
  },
  {
   "cell_type": "markdown",
   "id": "4a0bb987",
   "metadata": {},
   "source": [
    "## 3.(:) is used for seperate the statements"
   ]
  },
  {
   "cell_type": "code",
   "execution_count": 9,
   "id": "d5ef6a2d",
   "metadata": {},
   "outputs": [
    {
     "name": "stdout",
     "output_type": "stream",
     "text": [
      "eligible to vote\n"
     ]
    }
   ],
   "source": [
    "# This is program for voting age verification\n",
    "age = 18\n",
    "if age == 18 :\n",
    "    print (\"eligible to vote\")\n",
    "else:\n",
    "    print(\"not eligible to vote\")\n",
    "    "
   ]
  },
  {
   "cell_type": "code",
   "execution_count": 10,
   "id": "180c0775",
   "metadata": {
    "scrolled": true
   },
   "outputs": [
    {
     "ename": "SyntaxError",
     "evalue": "expected ':' (1366792082.py, line 2)",
     "output_type": "error",
     "traceback": [
      "\u001b[1;36m  Cell \u001b[1;32mIn[10], line 2\u001b[1;36m\u001b[0m\n\u001b[1;33m    if age == 18\u001b[0m\n\u001b[1;37m                 ^\u001b[0m\n\u001b[1;31mSyntaxError\u001b[0m\u001b[1;31m:\u001b[0m expected ':'\n"
     ]
    }
   ],
   "source": [
    "age = 18\n",
    "if age == 18 \n",
    "    print (\"eligible to vote\")\n",
    "else\n",
    "    print(\"not eligible to vote\")"
   ]
  },
  {
   "cell_type": "markdown",
   "id": "8d6696a5",
   "metadata": {},
   "source": [
    "## if we not use : seperators,then the python will show the error"
   ]
  },
  {
   "cell_type": "markdown",
   "id": "405f0bb4",
   "metadata": {},
   "source": [
    "## 4.(/)use for path selection Eg. Notebook/python/python basics"
   ]
  },
  {
   "cell_type": "markdown",
   "id": "71dbfe83",
   "metadata": {},
   "source": [
    "## 5.(\" \"):- string (can have characters , numbers etc)"
   ]
  },
  {
   "cell_type": "markdown",
   "id": "0bb64b40",
   "metadata": {},
   "source": [
    "## 6. INDUNTATION"
   ]
  },
  {
   "cell_type": "code",
   "execution_count": 15,
   "id": "f1b62561",
   "metadata": {},
   "outputs": [
    {
     "ename": "IndentationError",
     "evalue": "expected an indented block after 'if' statement on line 2 (1839260907.py, line 3)",
     "output_type": "error",
     "traceback": [
      "\u001b[1;36m  Cell \u001b[1;32mIn[15], line 3\u001b[1;36m\u001b[0m\n\u001b[1;33m    print (\"eligible to vote\")\u001b[0m\n\u001b[1;37m    ^\u001b[0m\n\u001b[1;31mIndentationError\u001b[0m\u001b[1;31m:\u001b[0m expected an indented block after 'if' statement on line 2\n"
     ]
    }
   ],
   "source": [
    "age = 18\n",
    "if age == 18 :\n",
    "print (\"eligible to vote\")\n",
    "else:\n",
    "print(\"not eligible to vote\")\n",
    "    "
   ]
  },
  {
   "cell_type": "code",
   "execution_count": 16,
   "id": "64de7cc2",
   "metadata": {},
   "outputs": [
    {
     "name": "stdout",
     "output_type": "stream",
     "text": [
      "eligible to vote\n"
     ]
    }
   ],
   "source": [
    "age = 18\n",
    "if age == 18 :\n",
    "    print (\"eligible to vote\")\n",
    "else:\n",
    "    print(\"not eligible to vote\")\n",
    "    "
   ]
  },
  {
   "cell_type": "code",
   "execution_count": null,
   "id": "1facd050",
   "metadata": {},
   "outputs": [],
   "source": []
  }
 ],
 "metadata": {
  "kernelspec": {
   "display_name": "Python 3 (ipykernel)",
   "language": "python",
   "name": "python3"
  },
  "language_info": {
   "codemirror_mode": {
    "name": "ipython",
    "version": 3
   },
   "file_extension": ".py",
   "mimetype": "text/x-python",
   "name": "python",
   "nbconvert_exporter": "python",
   "pygments_lexer": "ipython3",
   "version": "3.11.5"
  }
 },
 "nbformat": 4,
 "nbformat_minor": 5
}

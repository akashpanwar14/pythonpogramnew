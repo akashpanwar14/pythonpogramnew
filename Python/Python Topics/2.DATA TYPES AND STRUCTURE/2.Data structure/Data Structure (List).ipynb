{
 "cells": [
  {
   "cell_type": "markdown",
   "id": "3be689ac",
   "metadata": {},
   "source": [
    "## Data structure in python "
   ]
  },
  {
   "cell_type": "code",
   "execution_count": 4,
   "id": "5cb30186",
   "metadata": {},
   "outputs": [
    {
     "name": "stdout",
     "output_type": "stream",
     "text": [
      "<class 'list'>\n"
     ]
    }
   ],
   "source": [
    "List = [1,2,3,4,5,6] #single list\n",
    "print(type(List))"
   ]
  },
  {
   "cell_type": "code",
   "execution_count": 5,
   "id": "e15d7fd2",
   "metadata": {},
   "outputs": [],
   "source": [
    "List = [1,2,3,4,\"akash\",\"indore\"] # single list"
   ]
  },
  {
   "cell_type": "code",
   "execution_count": 7,
   "id": "46b39f5a",
   "metadata": {},
   "outputs": [],
   "source": [
    "List1 = [[1,2,3,4],[6,7,8,9],[5,2,7]] #multi dimentional list"
   ]
  },
  {
   "cell_type": "code",
   "execution_count": 14,
   "id": "8a949d3e",
   "metadata": {},
   "outputs": [],
   "source": [
    "List1 = [[12,34,54],[7,4,2,2],[\"akash\",\"indore\",\"jabalpur\"]]"
   ]
  },
  {
   "cell_type": "markdown",
   "id": "64519945",
   "metadata": {},
   "source": [
    "## 1. list indexing and slicing \n"
   ]
  },
  {
   "cell_type": "code",
   "execution_count": 11,
   "id": "d26b851b",
   "metadata": {},
   "outputs": [
    {
     "name": "stdout",
     "output_type": "stream",
     "text": [
      "akash\n",
      "indore\n"
     ]
    }
   ],
   "source": [
    "List = [1,2,3,4,\"akash\",\"indore\"]\n",
    "#indexing\n",
    "print(List[-2])\n",
    "print(List[5])"
   ]
  },
  {
   "cell_type": "code",
   "execution_count": 13,
   "id": "81128732",
   "metadata": {},
   "outputs": [
    {
     "name": "stdout",
     "output_type": "stream",
     "text": [
      "[2, 3, 4, 'akash']\n",
      "[1, 3, 'akash']\n"
     ]
    }
   ],
   "source": [
    "#slicing\n",
    "print(List[1:5])\n",
    "print(List[0:5:2])"
   ]
  },
  {
   "cell_type": "code",
   "execution_count": 30,
   "id": "64b1eabe",
   "metadata": {},
   "outputs": [
    {
     "name": "stdout",
     "output_type": "stream",
     "text": [
      "indore\n"
     ]
    }
   ],
   "source": [
    "#que find indore and 10 as an output using list indexing and slicing\n",
    "List1 = [[12,34,54],[7,4,2,10],[\"akash\",\"indore\",\"jabalpur\"]]\n",
    "print(List1[2][1])"
   ]
  },
  {
   "cell_type": "code",
   "execution_count": 31,
   "id": "1d4a08aa",
   "metadata": {},
   "outputs": [
    {
     "data": {
      "text/plain": [
       "10"
      ]
     },
     "execution_count": 31,
     "metadata": {},
     "output_type": "execute_result"
    }
   ],
   "source": [
    "List1 = [[12,34,54],[6,7,8,9,10],[\"akash\",\"indore\",\"jabalpur\"]]\n",
    "List1[1][4]"
   ]
  },
  {
   "cell_type": "markdown",
   "id": "310c1c67",
   "metadata": {},
   "source": [
    "## Mutability in list"
   ]
  },
  {
   "cell_type": "code",
   "execution_count": 34,
   "id": "59f22529",
   "metadata": {},
   "outputs": [],
   "source": [
    "List = [1,2,3,4,5]\n",
    "List.append(6)"
   ]
  },
  {
   "cell_type": "code",
   "execution_count": 35,
   "id": "9e13128d",
   "metadata": {},
   "outputs": [
    {
     "data": {
      "text/plain": [
       "[1, 2, 3, 4, 5, 6]"
      ]
     },
     "execution_count": 35,
     "metadata": {},
     "output_type": "execute_result"
    }
   ],
   "source": [
    "#appending the elements in list using append\n",
    "List"
   ]
  },
  {
   "cell_type": "code",
   "execution_count": 36,
   "id": "c1d6b67c",
   "metadata": {},
   "outputs": [],
   "source": [
    "# Replacing/updating the value in list\n",
    "List[-1]=\"bhopal\""
   ]
  },
  {
   "cell_type": "code",
   "execution_count": 37,
   "id": "9e274d16",
   "metadata": {},
   "outputs": [
    {
     "data": {
      "text/plain": [
       "[1, 2, 3, 4, 5, 'bhopal']"
      ]
     },
     "execution_count": 37,
     "metadata": {},
     "output_type": "execute_result"
    }
   ],
   "source": [
    "List"
   ]
  },
  {
   "cell_type": "code",
   "execution_count": 38,
   "id": "408a7b41",
   "metadata": {},
   "outputs": [],
   "source": [
    "List[-1]=[\"nagpur\"]"
   ]
  },
  {
   "cell_type": "code",
   "execution_count": 39,
   "id": "8f13ac9d",
   "metadata": {},
   "outputs": [
    {
     "data": {
      "text/plain": [
       "[1, 2, 3, 4, 5, ['nagpur']]"
      ]
     },
     "execution_count": 39,
     "metadata": {},
     "output_type": "execute_result"
    }
   ],
   "source": [
    "List"
   ]
  },
  {
   "cell_type": "code",
   "execution_count": 41,
   "id": "bf2b88a3",
   "metadata": {},
   "outputs": [
    {
     "data": {
      "text/plain": [
       "['nagpur']"
      ]
     },
     "execution_count": 41,
     "metadata": {},
     "output_type": "execute_result"
    }
   ],
   "source": [
    "# deleting the element from the list using pop()or remove()\n",
    "List.pop()"
   ]
  },
  {
   "cell_type": "code",
   "execution_count": 42,
   "id": "6a28cfca",
   "metadata": {},
   "outputs": [
    {
     "data": {
      "text/plain": [
       "[1, 2, 3, 4, 5]"
      ]
     },
     "execution_count": 42,
     "metadata": {},
     "output_type": "execute_result"
    }
   ],
   "source": [
    "List"
   ]
  },
  {
   "cell_type": "code",
   "execution_count": 43,
   "id": "8b970ea8",
   "metadata": {},
   "outputs": [],
   "source": [
    "List.remove(2)"
   ]
  },
  {
   "cell_type": "code",
   "execution_count": 44,
   "id": "7cb9c162",
   "metadata": {},
   "outputs": [
    {
     "data": {
      "text/plain": [
       "[1, 3, 4, 5]"
      ]
     },
     "execution_count": 44,
     "metadata": {},
     "output_type": "execute_result"
    }
   ],
   "source": [
    "List"
   ]
  },
  {
   "cell_type": "code",
   "execution_count": null,
   "id": "52ba6d2a",
   "metadata": {},
   "outputs": [],
   "source": []
  }
 ],
 "metadata": {
  "kernelspec": {
   "display_name": "Python 3 (ipykernel)",
   "language": "python",
   "name": "python3"
  },
  "language_info": {
   "codemirror_mode": {
    "name": "ipython",
    "version": 3
   },
   "file_extension": ".py",
   "mimetype": "text/x-python",
   "name": "python",
   "nbconvert_exporter": "python",
   "pygments_lexer": "ipython3",
   "version": "3.11.5"
  }
 },
 "nbformat": 4,
 "nbformat_minor": 5
}

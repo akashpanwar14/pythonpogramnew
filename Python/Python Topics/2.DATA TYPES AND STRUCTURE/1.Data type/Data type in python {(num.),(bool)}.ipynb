{
 "cells": [
  {
   "cell_type": "markdown",
   "id": "f85de01e",
   "metadata": {},
   "source": [
    "## 1. numeric type data type "
   ]
  },
  {
   "cell_type": "code",
   "execution_count": 2,
   "id": "ff7c60ca",
   "metadata": {},
   "outputs": [],
   "source": [
    "a = 10\n",
    "b = 5.1\n",
    "c = 5j"
   ]
  },
  {
   "cell_type": "code",
   "execution_count": 3,
   "id": "226966ab",
   "metadata": {},
   "outputs": [
    {
     "name": "stdout",
     "output_type": "stream",
     "text": [
      "<class 'int'>\n",
      "<class 'float'>\n",
      "<class 'complex'>\n"
     ]
    }
   ],
   "source": [
    "print(type(a))\n",
    "print(type(b))\n",
    "print(type(c))"
   ]
  },
  {
   "cell_type": "markdown",
   "id": "db616d0c",
   "metadata": {},
   "source": [
    "# type conversion\n",
    "# we can convert any data type into another data type \n",
    "# we use int(),float(),complex()"
   ]
  },
  {
   "cell_type": "code",
   "execution_count": 9,
   "id": "59737af3",
   "metadata": {},
   "outputs": [
    {
     "name": "stdout",
     "output_type": "stream",
     "text": [
      "the converted type of a is x: 10.0 <class 'float'>\n",
      "the converted type of b is y: 5 <class 'int'>\n",
      "the converted type of c is z: 5j <class 'int'>\n"
     ]
    }
   ],
   "source": [
    "a = 10 #int\n",
    "b = 5.1 #float\n",
    "c = 5j #complex\n",
    "# now using type conversion \n",
    "#converting a,b,c to their corresponding\n",
    "x = float(a)\n",
    "print(\"the converted type of a is x:\",x,type(x))\n",
    "y = int(b)\n",
    "print(\"the converted type of b is y:\",y, type(y))\n",
    "z = complex(c)\n",
    "print(\"the converted type of c is z:\",z, type(y))\n"
   ]
  },
  {
   "cell_type": "markdown",
   "id": "a8f05f42",
   "metadata": {},
   "source": [
    "## 2. boolean data type\n"
   ]
  },
  {
   "cell_type": "code",
   "execution_count": 11,
   "id": "3a4efbb8",
   "metadata": {},
   "outputs": [],
   "source": [
    "# it gives result in the form of true false or 1,0"
   ]
  },
  {
   "cell_type": "code",
   "execution_count": 12,
   "id": "b735c688",
   "metadata": {},
   "outputs": [],
   "source": [
    "a = 10 \n",
    "b = 20"
   ]
  },
  {
   "cell_type": "code",
   "execution_count": 15,
   "id": "c849ab32",
   "metadata": {},
   "outputs": [
    {
     "name": "stdout",
     "output_type": "stream",
     "text": [
      "False\n"
     ]
    }
   ],
   "source": [
    "print(bool(a==b))"
   ]
  },
  {
   "cell_type": "code",
   "execution_count": 16,
   "id": "e92fa144",
   "metadata": {},
   "outputs": [
    {
     "name": "stdout",
     "output_type": "stream",
     "text": [
      "True\n"
     ]
    }
   ],
   "source": [
    "print(bool(a<b))"
   ]
  },
  {
   "cell_type": "code",
   "execution_count": null,
   "id": "1f7f14ea",
   "metadata": {},
   "outputs": [],
   "source": []
  }
 ],
 "metadata": {
  "kernelspec": {
   "display_name": "Python 3 (ipykernel)",
   "language": "python",
   "name": "python3"
  },
  "language_info": {
   "codemirror_mode": {
    "name": "ipython",
    "version": 3
   },
   "file_extension": ".py",
   "mimetype": "text/x-python",
   "name": "python",
   "nbconvert_exporter": "python",
   "pygments_lexer": "ipython3",
   "version": "3.11.5"
  }
 },
 "nbformat": 4,
 "nbformat_minor": 5
}

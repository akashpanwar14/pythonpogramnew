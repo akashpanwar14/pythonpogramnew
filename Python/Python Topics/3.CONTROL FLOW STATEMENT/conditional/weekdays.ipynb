{
 "cells": [
  {
   "cell_type": "markdown",
   "id": "d405cb4e",
   "metadata": {},
   "source": [
    "## 1. WEEK DAYS with  MATCH Function"
   ]
  },
  {
   "cell_type": "code",
   "execution_count": 18,
   "id": "cc346e03",
   "metadata": {},
   "outputs": [
    {
     "name": "stdout",
     "output_type": "stream",
     "text": [
      "enter the num5\n",
      "thur\n"
     ]
    }
   ],
   "source": [
    "# day = int(input(\"enter the num\"))\n",
    "# #  pattern matchin\n",
    "# match(day):\n",
    "#     case 1 :\n",
    "#         print(\"sun\")\n",
    "#     case 2 :\n",
    "#         print(\"mon\")\n",
    "#     case 3 :\n",
    "#        print(\"tue\")\n",
    "#     case 4 :\n",
    "#         print(\"wed\")\n",
    "#     case 5 :\n",
    "#         print(\"thur\")\n",
    "#     case 6 :\n",
    "#         print(\"fri\")\n",
    "#     case 7 :\n",
    "#         print(\"sat\")\n",
    "#     case _:\n",
    "#         print(\"invalid\")\n",
    "    "
   ]
  },
  {
   "cell_type": "markdown",
   "id": "e152261d",
   "metadata": {},
   "source": [
    "## 2. VOWELS with Match Function"
   ]
  },
  {
   "cell_type": "code",
   "execution_count": 39,
   "id": "0a5294c3",
   "metadata": {},
   "outputs": [
    {
     "name": "stdout",
     "output_type": "stream",
     "text": [
      "enter no b/w 1-5 : 5\n",
      "u\n"
     ]
    }
   ],
   "source": [
    "# value = int(input(\"enter no b/w 1-5 : \"))\n",
    "# match(value):\n",
    "#     case 1 :\n",
    "#         print(\"a\")\n",
    "#     case 2 :\n",
    "#         print(\"e\")\n",
    "#     case 3 :\n",
    "#         print(\"i\")\n",
    "#     case 4 :\n",
    "#         print(\"o\")\n",
    "#     case 5 :\n",
    "#         print(\"u\")\n",
    "#     case _:\n",
    "#         print(\"error\")"
   ]
  },
  {
   "cell_type": "markdown",
   "id": "ec3fe0d6",
   "metadata": {},
   "source": [
    "## 3.MONTHS with match function"
   ]
  },
  {
   "cell_type": "code",
   "execution_count": 40,
   "id": "e115195d",
   "metadata": {},
   "outputs": [
    {
     "name": "stdout",
     "output_type": "stream",
     "text": [
      "select month46\n",
      "range pata nhi kya\n"
     ]
    }
   ],
   "source": [
    "# month = int(input(\"select month\"))\n",
    "# match(month):\n",
    "#     case 1 :\n",
    "#         print(\"January\")\n",
    "#     case 2 :\n",
    "#         print(\"february\")\n",
    "#     case 3 :\n",
    "#         print(\"March\")\n",
    "#     case 4 :\n",
    "#         print(\"April\")\n",
    "#     case 5 :\n",
    "#         print(\"May\")\n",
    "#     case 6 :\n",
    "#         print(\"june\")\n",
    "#     case 7 :\n",
    "#         print(\"july\")\n",
    "#     case 8 :\n",
    "#         print(\"August\")\n",
    "#     case 9 :\n",
    "#         print(\"Septemober\")\n",
    "#     case 10 :\n",
    "#         print(\"october\")\n",
    "#     case 11 :\n",
    "#         print(\"November\")\n",
    "#     case 12 :\n",
    "#         print(\"December\")\n",
    "#     case _ :\n",
    "#         print(\"range pata nhi kya\")"
   ]
  }
 ],
 "metadata": {
  "kernelspec": {
   "display_name": "Python 3 (ipykernel)",
   "language": "python",
   "name": "python3"
  },
  "language_info": {
   "codemirror_mode": {
    "name": "ipython",
    "version": 3
   },
   "file_extension": ".py",
   "mimetype": "text/x-python",
   "name": "python",
   "nbconvert_exporter": "python",
   "pygments_lexer": "ipython3",
   "version": "3.11.5"
  }
 },
 "nbformat": 4,
 "nbformat_minor": 5
}

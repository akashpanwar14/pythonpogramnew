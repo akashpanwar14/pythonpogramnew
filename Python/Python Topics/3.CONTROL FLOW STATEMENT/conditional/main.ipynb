{
 "cells": [
  {
   "cell_type": "code",
   "execution_count": 3,
   "id": "f223697f",
   "metadata": {},
   "outputs": [
    {
     "name": "stdout",
     "output_type": "stream",
     "text": [
      "Enter the number:15\n",
      "odd\n"
     ]
    }
   ],
   "source": [
    "# x = int(input(\"Enter the number:\"))\n",
    "# if(x%2==0):\n",
    "#     print(\"Even\")\n",
    "# else:\n",
    "#     print(\"odd\")"
   ]
  },
  {
   "cell_type": "markdown",
   "id": "9973bbb3",
   "metadata": {},
   "source": [
    "##task: check the greatest numbers of the two, by taking the nubers as input from user\n",
    "##task:check the greatest of the three nubers, by taking the number as input from user"
   ]
  },
  {
   "cell_type": "code",
   "execution_count": 7,
   "id": "55f3f331",
   "metadata": {},
   "outputs": [
    {
     "name": "stdout",
     "output_type": "stream",
     "text": [
      "number x:12\n",
      "number y:15\n",
      "y is greator\n"
     ]
    }
   ],
   "source": [
    "# x = int(input(\"number x:\"))\n",
    "# y = int(input(\"number y:\"))\n",
    "# if(x>y):\n",
    "#     print(\"x is greator\")\n",
    "# else:\n",
    "#     print(\"y is greator\")\n",
    "   "
   ]
  },
  {
   "cell_type": "code",
   "execution_count": 5,
   "id": "bb0d5464",
   "metadata": {},
   "outputs": [
    {
     "name": "stdout",
     "output_type": "stream",
     "text": [
      "Enter the first no x  :12\n",
      "Ennter the second no y:15\n",
      "Enter the third no  z :11\n",
      "y is greator\n"
     ]
    }
   ],
   "source": [
    "# x = float(input(\"Enter the first no x  :\"))\n",
    "# y = float(input(\"Ennter the second no y:\"))\n",
    "# z = float(input(\"Enter the third no  z :\"))\n",
    "# if(x>y and x>z):\n",
    "#     print(\"x is greator\")\n",
    "# elif(y>x and y>z):\n",
    "#     print(\"y is greator\")\n",
    "# else:\n",
    "#     print(\"z is largest no\")\n"
   ]
  }
 ],
 "metadata": {
  "kernelspec": {
   "display_name": "Python 3 (ipykernel)",
   "language": "python",
   "name": "python3"
  },
  "language_info": {
   "codemirror_mode": {
    "name": "ipython",
    "version": 3
   },
   "file_extension": ".py",
   "mimetype": "text/x-python",
   "name": "python",
   "nbconvert_exporter": "python",
   "pygments_lexer": "ipython3",
   "version": "3.11.5"
  }
 },
 "nbformat": 4,
 "nbformat_minor": 5
}

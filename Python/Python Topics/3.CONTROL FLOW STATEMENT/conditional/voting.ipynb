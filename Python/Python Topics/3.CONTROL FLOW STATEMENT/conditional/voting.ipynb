{
 "cells": [
  {
   "cell_type": "markdown",
   "id": "acc92f08",
   "metadata": {},
   "source": [
    "## make the creteria of man is an indian citizen and then second is eligible to vote\n"
   ]
  },
  {
   "cell_type": "code",
   "execution_count": 6,
   "id": "6f233e55",
   "metadata": {},
   "outputs": [
    {
     "name": "stdout",
     "output_type": "stream",
     "text": [
      "enter your country:indian\n",
      "Enter your age : 14\n",
      "age not qualified\n"
     ]
    }
   ],
   "source": [
    "citizen = input(\"enter your country:\")\n",
    "\n",
    "if(citizen==\"indian\" or citizen==\"Indian\" or citizen==\"INDIAN\"):\n",
    "    age = int(input(\"Enter your age : \")) #14\n",
    "    if(age>=18 and age<110):\n",
    "        print:(\"person is eligible to vote\")\n",
    "    else:\n",
    "        print(\"age not qualified\")\n",
    "else:\n",
    "       print(\"not a citizen\")\n",
    "\n"
   ]
  }
 ],
 "metadata": {
  "kernelspec": {
   "display_name": "Python 3 (ipykernel)",
   "language": "python",
   "name": "python3"
  },
  "language_info": {
   "codemirror_mode": {
    "name": "ipython",
    "version": 3
   },
   "file_extension": ".py",
   "mimetype": "text/x-python",
   "name": "python",
   "nbconvert_exporter": "python",
   "pygments_lexer": "ipython3",
   "version": "3.11.5"
  }
 },
 "nbformat": 4,
 "nbformat_minor": 5
}

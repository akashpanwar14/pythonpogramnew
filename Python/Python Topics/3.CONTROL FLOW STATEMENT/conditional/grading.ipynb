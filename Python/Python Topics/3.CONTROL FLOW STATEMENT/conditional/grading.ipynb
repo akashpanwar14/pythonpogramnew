{
 "cells": [
  {
   "cell_type": "markdown",
   "id": "2bab2c28",
   "metadata": {},
   "source": [
    "# gradinng of student overall marks"
   ]
  },
  {
   "cell_type": "markdown",
   "id": "e023191c",
   "metadata": {},
   "source": [
    "# 100 - 80 = A Grade\n",
    "# 80  - 60 = B Grade\n",
    "# 60  - 55 = C Grade\n",
    "# 55  - 33 = D Grade\n",
    "# 33  - 0  = Fail"
   ]
  },
  {
   "cell_type": "code",
   "execution_count": 2,
   "id": "6c14b877",
   "metadata": {},
   "outputs": [],
   "source": [
    "# marks = int(input(\"Enter the marks : \"))\n",
    "\n",
    "\n",
    "# if(marks>=80 and marks<=100):\n",
    "#     print(\"You have sucessfully scored A grade\")\n",
    "# elif(marks>=65 and marks<80):\n",
    "#     print(\"You have sucessfully scored B grade\")\n",
    "# elif(marks>=45 and marks<65):\n",
    "#     print(\"You have sucessfully scored C grade\")\n",
    "# elif(marks>=33 and marks<45):\n",
    "#     print(\"You have sucessfully scored D grade\")\n",
    "# elif(marks>=0 and marks<33):\n",
    "#     print(\"You have sucessfully failed\")\n",
    "# else:\n",
    "#     print(\"Invalid Marks\")\n"
   ]
  },
  {
   "cell_type": "code",
   "execution_count": null,
   "id": "957efd67",
   "metadata": {},
   "outputs": [],
   "source": []
  },
  {
   "cell_type": "code",
   "execution_count": null,
   "id": "f40b0f58",
   "metadata": {},
   "outputs": [],
   "source": []
  }
 ],
 "metadata": {
  "kernelspec": {
   "display_name": "Python 3 (ipykernel)",
   "language": "python",
   "name": "python3"
  },
  "language_info": {
   "codemirror_mode": {
    "name": "ipython",
    "version": 3
   },
   "file_extension": ".py",
   "mimetype": "text/x-python",
   "name": "python",
   "nbconvert_exporter": "python",
   "pygments_lexer": "ipython3",
   "version": "3.11.5"
  }
 },
 "nbformat": 4,
 "nbformat_minor": 5
}

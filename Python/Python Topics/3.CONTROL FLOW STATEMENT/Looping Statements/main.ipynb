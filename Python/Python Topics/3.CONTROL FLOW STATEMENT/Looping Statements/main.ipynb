{
 "cells": [
  {
   "cell_type": "code",
   "execution_count": 3,
   "id": "91808dae",
   "metadata": {},
   "outputs": [
    {
     "name": "stdout",
     "output_type": "stream",
     "text": [
      "The sum is 2550 and the count is 50 and the product is 34243224702511976248246432895208185975118675053719198827915654463488000000000000\n"
     ]
    }
   ],
   "source": [
    "# i = 1\n",
    "# count = 0\n",
    "# sum = 0\n",
    "# product = 1\n",
    "# while(i<101):\n",
    "#     if(i%2==0):\n",
    "#         sum+=i\n",
    "#         product*=i\n",
    "#         count+=1\n",
    "#         i+=1\n",
    "#     else:\n",
    "#         i+=1\n",
    "# print(\"The sum is\",sum ,\"and the count is\",count, \"and the product is\",product)\n"
   ]
  },
  {
   "cell_type": "code",
   "execution_count": 2,
   "id": "fe48e20a",
   "metadata": {},
   "outputs": [
    {
     "name": "stdout",
     "output_type": "stream",
     "text": [
      "There are 5 digits in 14356\n"
     ]
    }
   ],
   "source": [
    "# num = 14356\n",
    "# y  = num\n",
    "# digits = 0 #5\n",
    "# while(y>0): #0\n",
    "#     digits+=1\n",
    "#     y//=10\n",
    "# print(\"There are\", digits, \"digits in\",num)"
   ]
  },
  {
   "cell_type": "code",
   "execution_count": null,
   "id": "cdc6c526",
   "metadata": {},
   "outputs": [],
   "source": [
    "\n"
   ]
  }
 ],
 "metadata": {
  "kernelspec": {
   "display_name": "Python 3 (ipykernel)",
   "language": "python",
   "name": "python3"
  },
  "language_info": {
   "codemirror_mode": {
    "name": "ipython",
    "version": 3
   },
   "file_extension": ".py",
   "mimetype": "text/x-python",
   "name": "python",
   "nbconvert_exporter": "python",
   "pygments_lexer": "ipython3",
   "version": "3.11.5"
  }
 },
 "nbformat": 4,
 "nbformat_minor": 5
}

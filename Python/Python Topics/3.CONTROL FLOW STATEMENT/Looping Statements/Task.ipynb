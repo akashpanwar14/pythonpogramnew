{
 "cells": [
  {
   "cell_type": "markdown",
   "id": "6928f783",
   "metadata": {},
   "source": [
    "## 1. Print 1 to 10 using for loop"
   ]
  },
  {
   "cell_type": "code",
   "execution_count": 3,
   "id": "3be5b290",
   "metadata": {},
   "outputs": [
    {
     "name": "stdout",
     "output_type": "stream",
     "text": [
      "1\n",
      "2\n",
      "3\n",
      "4\n",
      "5\n",
      "6\n",
      "7\n",
      "8\n",
      "9\n",
      "10\n"
     ]
    }
   ],
   "source": [
    "# x = 0\n",
    "# for x in range(1,11):\n",
    "#     print(x)"
   ]
  },
  {
   "cell_type": "markdown",
   "id": "9c98e283",
   "metadata": {},
   "source": [
    "## 2. Print 1 to 10 using while loop"
   ]
  },
  {
   "cell_type": "code",
   "execution_count": 4,
   "id": "c242c150",
   "metadata": {},
   "outputs": [
    {
     "name": "stdout",
     "output_type": "stream",
     "text": [
      "1\n",
      "2\n",
      "3\n",
      "4\n",
      "5\n",
      "6\n",
      "7\n",
      "8\n",
      "9\n",
      "10\n"
     ]
    }
   ],
   "source": [
    "# i = 1\n",
    "# while i<=10:\n",
    "#     print(i)\n",
    "#     i += 1"
   ]
  },
  {
   "cell_type": "markdown",
   "id": "1d93682f",
   "metadata": {},
   "source": [
    "## 3.Print 10 to 1 using FOR loop"
   ]
  },
  {
   "cell_type": "code",
   "execution_count": 6,
   "id": "e5338951",
   "metadata": {},
   "outputs": [
    {
     "name": "stdout",
     "output_type": "stream",
     "text": [
      "10\n",
      "9\n",
      "8\n",
      "7\n",
      "6\n",
      "5\n",
      "4\n",
      "3\n",
      "2\n",
      "1\n"
     ]
    }
   ],
   "source": [
    "# for i in range(10,0,-1):\n",
    "#     print(i)"
   ]
  },
  {
   "cell_type": "markdown",
   "id": "ecea170c",
   "metadata": {},
   "source": [
    "## 2. Print 10 to 1 using WHILE loop"
   ]
  },
  {
   "cell_type": "code",
   "execution_count": 2,
   "id": "2f28e650",
   "metadata": {},
   "outputs": [
    {
     "name": "stdout",
     "output_type": "stream",
     "text": [
      "10\n",
      "9\n",
      "8\n",
      "7\n",
      "6\n",
      "5\n",
      "4\n",
      "3\n",
      "2\n",
      "1\n"
     ]
    }
   ],
   "source": [
    "# num = 10\n",
    "# while num>=1:\n",
    "#     print(num)\n",
    "#     num-=1"
   ]
  },
  {
   "cell_type": "markdown",
   "id": "94d315ac",
   "metadata": {},
   "source": [
    "## 3. Print the sum of all numbers from 1 to 5 using FOR LOOP\n"
   ]
  },
  {
   "cell_type": "code",
   "execution_count": 18,
   "id": "10c7c690",
   "metadata": {},
   "outputs": [
    {
     "name": "stdout",
     "output_type": "stream",
     "text": [
      "the sum is : 15\n"
     ]
    }
   ],
   "source": [
    "# num = 0\n",
    "# for i in range(1,6):\n",
    "#     num += i\n",
    "# print(\"the sum is :\",num)"
   ]
  },
  {
   "cell_type": "markdown",
   "id": "85f49d61",
   "metadata": {},
   "source": [
    "## 4. Print the sum of all numbers from 1 to 5 using WHILE LOOP"
   ]
  },
  {
   "cell_type": "code",
   "execution_count": 9,
   "id": "9c861b80",
   "metadata": {},
   "outputs": [
    {
     "name": "stdout",
     "output_type": "stream",
     "text": [
      "the sum of number is : 15\n"
     ]
    }
   ],
   "source": [
    "# x = 0\n",
    "# y = 1\n",
    "# while y<6:\n",
    "#     x += y\n",
    "#     y += 1\n",
    "# print(f\"the sum of number is : {x}\")"
   ]
  },
  {
   "cell_type": "markdown",
   "id": "51bff2ac",
   "metadata": {},
   "source": [
    "## 5.Print the product of all numbers from 1 to 5 using FOR LOOP"
   ]
  },
  {
   "cell_type": "code",
   "execution_count": 6,
   "id": "522b8704",
   "metadata": {},
   "outputs": [
    {
     "name": "stdout",
     "output_type": "stream",
     "text": [
      "the product of number is : 120 \n"
     ]
    }
   ],
   "source": [
    "# product = 1\n",
    "# for i in range(1,6):\n",
    "#     product *= i\n",
    "# print(f\"the product of number is : {product} \")    "
   ]
  },
  {
   "cell_type": "markdown",
   "id": "6b44a273",
   "metadata": {},
   "source": [
    "## 6.Print the product of all numbers from 1 to 5 using WHILE LOOP"
   ]
  },
  {
   "cell_type": "code",
   "execution_count": 3,
   "id": "e57021bd",
   "metadata": {},
   "outputs": [
    {
     "name": "stdout",
     "output_type": "stream",
     "text": [
      "The product of numbers from 1 to 5 is: 120\n"
     ]
    }
   ],
   "source": [
    "# product = 1\n",
    "# num = 1\n",
    "\n",
    "# while num <= 5:\n",
    "#     product *= num\n",
    "#     num += 1\n",
    "\n",
    "# print(f\"The product of numbers from 1 to 5 is: {product}\")\n"
   ]
  },
  {
   "cell_type": "markdown",
   "id": "becea703",
   "metadata": {},
   "source": [
    "## 7.Print all the even numbers between 1 to 10 using FOR LOOP"
   ]
  },
  {
   "cell_type": "code",
   "execution_count": 11,
   "id": "e48ac988",
   "metadata": {},
   "outputs": [
    {
     "name": "stdout",
     "output_type": "stream",
     "text": [
      "2\n",
      "4\n",
      "6\n",
      "8\n",
      "10\n"
     ]
    }
   ],
   "source": [
    "# for i in range(2,11,2):\n",
    "#     print(i)\n",
    "    "
   ]
  },
  {
   "cell_type": "markdown",
   "id": "fc92e45d",
   "metadata": {},
   "source": [
    "## 8.Print all the even numbers between 1 to 10 using WHILE LOOP"
   ]
  },
  {
   "cell_type": "code",
   "execution_count": 2,
   "id": "660c338b",
   "metadata": {},
   "outputs": [
    {
     "name": "stdout",
     "output_type": "stream",
     "text": [
      "2\n",
      "4\n",
      "6\n",
      "8\n",
      "10\n"
     ]
    }
   ],
   "source": [
    "# num = 2\n",
    "# while num<11:\n",
    "#     print(num)\n",
    "#     num +=2    "
   ]
  },
  {
   "cell_type": "markdown",
   "id": "2bc4d08d",
   "metadata": {},
   "source": [
    "## 9.Count all the even numbers between 21 to 7 using FOR LOOP"
   ]
  },
  {
   "cell_type": "code",
   "execution_count": 16,
   "id": "c780d6e6",
   "metadata": {},
   "outputs": [
    {
     "name": "stdout",
     "output_type": "stream",
     "text": [
      "Number of even numbers in the range: 7\n"
     ]
    }
   ],
   "source": [
    "# count = 0\n",
    "# for num in range(21, 7 - 1, -1):\n",
    "#     if num % 2 == 0:\n",
    "#         count += 1\n",
    "\n",
    "# print(\"Number of even numbers in the range:\", count)"
   ]
  },
  {
   "cell_type": "markdown",
   "id": "80583889",
   "metadata": {},
   "source": [
    "## 10.Count all the even numbers between 21 to 7 using WHILE LOOP"
   ]
  },
  {
   "cell_type": "code",
   "execution_count": 4,
   "id": "24c9a861",
   "metadata": {},
   "outputs": [
    {
     "name": "stdout",
     "output_type": "stream",
     "text": [
      "Number of even numbers in the range: 7\n"
     ]
    }
   ],
   "source": [
    "# count = 0\n",
    "# num = 21\n",
    "# while num >= 7:\n",
    "#     if num % 2 == 0:\n",
    "#         count += 1\n",
    "#     num -= 1\n",
    "\n",
    "# print(\"Number of even numbers in the range:\", count)\n"
   ]
  },
  {
   "cell_type": "markdown",
   "id": "ee568a11",
   "metadata": {},
   "source": [
    "## 11.Write the programs in python to display the first ten terms of the following series:\n",
    "######  (a) 1, 4, 9, 16,\n",
    "######   (b) 1, 2, 4, 7, 11,\n",
    "######   (c) 3, 6, 9, 12,\n",
    "######   (d) 4, 8, 16, 32, \n",
    "######   (e) 1.5, 3.0, 4.5, 6.0,\n",
    "######   (f) 0, 7, 26,\n",
    "######   (g) 1, 9, 25, 49,\n",
    "######   (h) 4, 16, 36, 64,\n",
    "######   (i) 0, 3, 8, 15,\n",
    "######   (j) 24, 99, 224, 399,\n",
    "######   (k) 2, 5, 10, 17,\n"
   ]
  },
  {
   "cell_type": "code",
   "execution_count": 6,
   "id": "b938f76b",
   "metadata": {},
   "outputs": [
    {
     "name": "stdout",
     "output_type": "stream",
     "text": [
      "1\n",
      "4\n",
      "9\n",
      "16\n",
      "25\n",
      "36\n",
      "49\n",
      "64\n",
      "81\n",
      "100\n"
     ]
    }
   ],
   "source": [
    "# # (A) 1,4,9,16 using FOR LOOP\n",
    "# for i in range(1,11):\n",
    "#     print(i*i)"
   ]
  },
  {
   "cell_type": "code",
   "execution_count": 22,
   "id": "c9cd5a29",
   "metadata": {},
   "outputs": [
    {
     "name": "stdout",
     "output_type": "stream",
     "text": [
      "1\n",
      "2\n",
      "4\n",
      "7\n",
      "11\n",
      "16\n",
      "22\n",
      "29\n",
      "37\n",
      "46\n"
     ]
    }
   ],
   "source": [
    "# # (B) 1, 2, 4, 7, 11\n",
    "# term = 1\n",
    "# difference = 1\n",
    "# for _ in range(10):\n",
    "#     print(term,)\n",
    "#     term += difference\n",
    "#     difference += 1\n"
   ]
  },
  {
   "cell_type": "code",
   "execution_count": 21,
   "id": "4fcb563a",
   "metadata": {},
   "outputs": [
    {
     "name": "stdout",
     "output_type": "stream",
     "text": [
      "3\n",
      "6\n",
      "9\n",
      "12\n",
      "15\n",
      "18\n",
      "21\n",
      "24\n",
      "27\n",
      "30\n"
     ]
    }
   ],
   "source": [
    "# # # (C) 3, 6, 9, 12,\n",
    "# term = 3\n",
    "# difference = 3\n",
    "# for _ in range(10):\n",
    "#     print(term)\n",
    "#     term+=difference\n",
    "\n"
   ]
  },
  {
   "cell_type": "code",
   "execution_count": 25,
   "id": "1e387f07",
   "metadata": {},
   "outputs": [
    {
     "name": "stdout",
     "output_type": "stream",
     "text": [
      "4\n",
      "8\n",
      "16\n",
      "32\n",
      "64\n",
      "128\n",
      "256\n",
      "512\n",
      "1024\n",
      "2048\n"
     ]
    }
   ],
   "source": [
    "# # (d) 4, 8, 16, 32,\\\n",
    "# term = 4\n",
    "# difference = 4\n",
    "# for _ in range(10):\n",
    "#     print(term)\n",
    "#     term*=2"
   ]
  },
  {
   "cell_type": "code",
   "execution_count": 29,
   "id": "c64eba3a",
   "metadata": {},
   "outputs": [
    {
     "name": "stdout",
     "output_type": "stream",
     "text": [
      "1.5\n",
      "3.0\n",
      "4.5\n",
      "6.0\n",
      "7.5\n",
      "9.0\n",
      "10.5\n",
      "12.0\n",
      "13.5\n",
      "15.0\n"
     ]
    }
   ],
   "source": [
    "# # (e) 1.5, 3.0, 4.5, 6.0,\n",
    "# term = 1.5\n",
    "# diff = 1.5\n",
    "# for _ in range(10):\n",
    "#     print(term)\n",
    "#     term+=diff"
   ]
  },
  {
   "cell_type": "code",
   "execution_count": 31,
   "id": "3d964330",
   "metadata": {},
   "outputs": [],
   "source": [
    "# (f) 0, 7, 26\n",
    "\n",
    "\n"
   ]
  },
  {
   "cell_type": "code",
   "execution_count": 32,
   "id": "8b8262ff",
   "metadata": {},
   "outputs": [],
   "source": [
    "# #(G)1, 9, 25, 49\n",
    "# odd_num = 1\n",
    "# num  = 1\n",
    "# while num<\n"
   ]
  }
 ],
 "metadata": {
  "kernelspec": {
   "display_name": "Python 3 (ipykernel)",
   "language": "python",
   "name": "python3"
  },
  "language_info": {
   "codemirror_mode": {
    "name": "ipython",
    "version": 3
   },
   "file_extension": ".py",
   "mimetype": "text/x-python",
   "name": "python",
   "nbconvert_exporter": "python",
   "pygments_lexer": "ipython3",
   "version": "3.11.5"
  }
 },
 "nbformat": 4,
 "nbformat_minor": 5
}
